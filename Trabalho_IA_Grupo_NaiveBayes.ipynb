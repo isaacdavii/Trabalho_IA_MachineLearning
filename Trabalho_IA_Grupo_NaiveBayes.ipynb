{
  "nbformat": 4,
  "nbformat_minor": 0,
  "metadata": {
    "colab": {
      "provenance": [],
      "mount_file_id": "1trsmubfIQ1bCQxpK-XRHMuVLgNjQ4FCQ",
      "authorship_tag": "ABX9TyMtPfd+i/eDq9cCnfZFQlXX",
      "include_colab_link": true
    },
    "kernelspec": {
      "name": "python3",
      "display_name": "Python 3"
    },
    "language_info": {
      "name": "python"
    }
  },
  "cells": [
    {
      "cell_type": "markdown",
      "metadata": {
        "id": "view-in-github",
        "colab_type": "text"
      },
      "source": [
        "<a href=\"https://colab.research.google.com/github/isaacdavii/Trabalho_IA_MachineLearning/blob/main/Trabalho_IA_Grupo_NaiveBayes.ipynb\" target=\"_parent\"><img src=\"https://colab.research.google.com/assets/colab-badge.svg\" alt=\"Open In Colab\"/></a>"
      ]
    },
    {
      "cell_type": "markdown",
      "source": [
        "# Trabalho da disciplina de IA\n",
        "\n",
        "---\n",
        "\n",
        "### Professora:\n",
        "*   Isabela Neves Drummond\n",
        "\n",
        "### Alunos:\n",
        "* Isaac Davi Mendonça Viana - 2023000650\n",
        "* Kaio Magno Cezário de Cássio - 2023007650\n",
        "* Marcos Eduardo Alves de Souza - 2023010155\n",
        "* Pedro Paulo Araujo Carvalho - 2023000909\n",
        "* Samuel Guedes Nascimento - 2023012991\n",
        "\n",
        "---\n",
        "\n",
        "\n",
        "```\n",
        "Data da apresentação 18/06/24\n",
        "```\n",
        "\n"
      ],
      "metadata": {
        "id": "efkUZdYKZBql"
      }
    },
    {
      "cell_type": "markdown",
      "source": [
        "O conjunto de dados utilizado neste notebook é traz informações sobre apartamentos de Moscou. O objetivo é, a partir dos dados dos apartamentos, definir se ele é um imóvel `novo` ou `não`.\n",
        "\n",
        " Atributos dos dados:\n",
        "\n",
        "- min_metro: Minutos do apartamento até o metrô mais próximo\n",
        "- area_total: Área construída do imóvel\n",
        "- area_util: Área utilizável do imóvel\n",
        "- andar: Andar em que se encontra o imóvel\n",
        "- pe_direito: Altura do piso ao teto do imóvel\n",
        "- numero_comodos: Quantidade de cômodos\n",
        "- novo: Indica se o apartamento é novo (1) ou não (0)\n",
        "\n",
        "O conjunto de dados foi importado pelo Google Drive e sua carga é feita em um DataFrame Pandas."
      ],
      "metadata": {
        "id": "4gTQe4SiZEOc"
      }
    },
    {
      "cell_type": "code",
      "source": [
        "import pandas as pd\n",
        "\n",
        "# Carregar o conjunto de dados\n",
        "df = pd.read_csv('/content/drive/MyDrive/Colab Notebooks/Trabalho_IA_Isabela/apartamentos.csv')\n",
        "df.head()"
      ],
      "metadata": {
        "colab": {
          "base_uri": "https://localhost:8080/",
          "height": 206
        },
        "id": "qnYKGtdTZQsf",
        "outputId": "7c9d63b6-3d5b-4a91-9b47-ce01b76b951c"
      },
      "execution_count": null,
      "outputs": [
        {
          "output_type": "execute_result",
          "data": {
            "text/plain": [
              "   min_metro  area_total  area_util  andar  novo  pe_direito  numero_comodos\n",
              "0       24.0       64.20       32.4   11.0   1.0        3.15             2.0\n",
              "1        5.0       72.40       33.6    3.0   1.0        3.15             2.0\n",
              "2       27.0       66.90       24.8    9.0   1.0        3.00             2.0\n",
              "3       20.0       66.00       29.9    8.0   1.0        3.00             2.0\n",
              "4        5.0       65.55       34.4   26.0   1.0        2.87             2.0"
            ],
            "text/html": [
              "\n",
              "  <div id=\"df-a7816aa4-2153-4826-89a3-696be056431a\" class=\"colab-df-container\">\n",
              "    <div>\n",
              "<style scoped>\n",
              "    .dataframe tbody tr th:only-of-type {\n",
              "        vertical-align: middle;\n",
              "    }\n",
              "\n",
              "    .dataframe tbody tr th {\n",
              "        vertical-align: top;\n",
              "    }\n",
              "\n",
              "    .dataframe thead th {\n",
              "        text-align: right;\n",
              "    }\n",
              "</style>\n",
              "<table border=\"1\" class=\"dataframe\">\n",
              "  <thead>\n",
              "    <tr style=\"text-align: right;\">\n",
              "      <th></th>\n",
              "      <th>min_metro</th>\n",
              "      <th>area_total</th>\n",
              "      <th>area_util</th>\n",
              "      <th>andar</th>\n",
              "      <th>novo</th>\n",
              "      <th>pe_direito</th>\n",
              "      <th>numero_comodos</th>\n",
              "    </tr>\n",
              "  </thead>\n",
              "  <tbody>\n",
              "    <tr>\n",
              "      <th>0</th>\n",
              "      <td>24.0</td>\n",
              "      <td>64.20</td>\n",
              "      <td>32.4</td>\n",
              "      <td>11.0</td>\n",
              "      <td>1.0</td>\n",
              "      <td>3.15</td>\n",
              "      <td>2.0</td>\n",
              "    </tr>\n",
              "    <tr>\n",
              "      <th>1</th>\n",
              "      <td>5.0</td>\n",
              "      <td>72.40</td>\n",
              "      <td>33.6</td>\n",
              "      <td>3.0</td>\n",
              "      <td>1.0</td>\n",
              "      <td>3.15</td>\n",
              "      <td>2.0</td>\n",
              "    </tr>\n",
              "    <tr>\n",
              "      <th>2</th>\n",
              "      <td>27.0</td>\n",
              "      <td>66.90</td>\n",
              "      <td>24.8</td>\n",
              "      <td>9.0</td>\n",
              "      <td>1.0</td>\n",
              "      <td>3.00</td>\n",
              "      <td>2.0</td>\n",
              "    </tr>\n",
              "    <tr>\n",
              "      <th>3</th>\n",
              "      <td>20.0</td>\n",
              "      <td>66.00</td>\n",
              "      <td>29.9</td>\n",
              "      <td>8.0</td>\n",
              "      <td>1.0</td>\n",
              "      <td>3.00</td>\n",
              "      <td>2.0</td>\n",
              "    </tr>\n",
              "    <tr>\n",
              "      <th>4</th>\n",
              "      <td>5.0</td>\n",
              "      <td>65.55</td>\n",
              "      <td>34.4</td>\n",
              "      <td>26.0</td>\n",
              "      <td>1.0</td>\n",
              "      <td>2.87</td>\n",
              "      <td>2.0</td>\n",
              "    </tr>\n",
              "  </tbody>\n",
              "</table>\n",
              "</div>\n",
              "    <div class=\"colab-df-buttons\">\n",
              "\n",
              "  <div class=\"colab-df-container\">\n",
              "    <button class=\"colab-df-convert\" onclick=\"convertToInteractive('df-a7816aa4-2153-4826-89a3-696be056431a')\"\n",
              "            title=\"Convert this dataframe to an interactive table.\"\n",
              "            style=\"display:none;\">\n",
              "\n",
              "  <svg xmlns=\"http://www.w3.org/2000/svg\" height=\"24px\" viewBox=\"0 -960 960 960\">\n",
              "    <path d=\"M120-120v-720h720v720H120Zm60-500h600v-160H180v160Zm220 220h160v-160H400v160Zm0 220h160v-160H400v160ZM180-400h160v-160H180v160Zm440 0h160v-160H620v160ZM180-180h160v-160H180v160Zm440 0h160v-160H620v160Z\"/>\n",
              "  </svg>\n",
              "    </button>\n",
              "\n",
              "  <style>\n",
              "    .colab-df-container {\n",
              "      display:flex;\n",
              "      gap: 12px;\n",
              "    }\n",
              "\n",
              "    .colab-df-convert {\n",
              "      background-color: #E8F0FE;\n",
              "      border: none;\n",
              "      border-radius: 50%;\n",
              "      cursor: pointer;\n",
              "      display: none;\n",
              "      fill: #1967D2;\n",
              "      height: 32px;\n",
              "      padding: 0 0 0 0;\n",
              "      width: 32px;\n",
              "    }\n",
              "\n",
              "    .colab-df-convert:hover {\n",
              "      background-color: #E2EBFA;\n",
              "      box-shadow: 0px 1px 2px rgba(60, 64, 67, 0.3), 0px 1px 3px 1px rgba(60, 64, 67, 0.15);\n",
              "      fill: #174EA6;\n",
              "    }\n",
              "\n",
              "    .colab-df-buttons div {\n",
              "      margin-bottom: 4px;\n",
              "    }\n",
              "\n",
              "    [theme=dark] .colab-df-convert {\n",
              "      background-color: #3B4455;\n",
              "      fill: #D2E3FC;\n",
              "    }\n",
              "\n",
              "    [theme=dark] .colab-df-convert:hover {\n",
              "      background-color: #434B5C;\n",
              "      box-shadow: 0px 1px 3px 1px rgba(0, 0, 0, 0.15);\n",
              "      filter: drop-shadow(0px 1px 2px rgba(0, 0, 0, 0.3));\n",
              "      fill: #FFFFFF;\n",
              "    }\n",
              "  </style>\n",
              "\n",
              "    <script>\n",
              "      const buttonEl =\n",
              "        document.querySelector('#df-a7816aa4-2153-4826-89a3-696be056431a button.colab-df-convert');\n",
              "      buttonEl.style.display =\n",
              "        google.colab.kernel.accessAllowed ? 'block' : 'none';\n",
              "\n",
              "      async function convertToInteractive(key) {\n",
              "        const element = document.querySelector('#df-a7816aa4-2153-4826-89a3-696be056431a');\n",
              "        const dataTable =\n",
              "          await google.colab.kernel.invokeFunction('convertToInteractive',\n",
              "                                                    [key], {});\n",
              "        if (!dataTable) return;\n",
              "\n",
              "        const docLinkHtml = 'Like what you see? Visit the ' +\n",
              "          '<a target=\"_blank\" href=https://colab.research.google.com/notebooks/data_table.ipynb>data table notebook</a>'\n",
              "          + ' to learn more about interactive tables.';\n",
              "        element.innerHTML = '';\n",
              "        dataTable['output_type'] = 'display_data';\n",
              "        await google.colab.output.renderOutput(dataTable, element);\n",
              "        const docLink = document.createElement('div');\n",
              "        docLink.innerHTML = docLinkHtml;\n",
              "        element.appendChild(docLink);\n",
              "      }\n",
              "    </script>\n",
              "  </div>\n",
              "\n",
              "\n",
              "<div id=\"df-61adb242-94c3-473f-a152-65414d4d33e9\">\n",
              "  <button class=\"colab-df-quickchart\" onclick=\"quickchart('df-61adb242-94c3-473f-a152-65414d4d33e9')\"\n",
              "            title=\"Suggest charts\"\n",
              "            style=\"display:none;\">\n",
              "\n",
              "<svg xmlns=\"http://www.w3.org/2000/svg\" height=\"24px\"viewBox=\"0 0 24 24\"\n",
              "     width=\"24px\">\n",
              "    <g>\n",
              "        <path d=\"M19 3H5c-1.1 0-2 .9-2 2v14c0 1.1.9 2 2 2h14c1.1 0 2-.9 2-2V5c0-1.1-.9-2-2-2zM9 17H7v-7h2v7zm4 0h-2V7h2v10zm4 0h-2v-4h2v4z\"/>\n",
              "    </g>\n",
              "</svg>\n",
              "  </button>\n",
              "\n",
              "<style>\n",
              "  .colab-df-quickchart {\n",
              "      --bg-color: #E8F0FE;\n",
              "      --fill-color: #1967D2;\n",
              "      --hover-bg-color: #E2EBFA;\n",
              "      --hover-fill-color: #174EA6;\n",
              "      --disabled-fill-color: #AAA;\n",
              "      --disabled-bg-color: #DDD;\n",
              "  }\n",
              "\n",
              "  [theme=dark] .colab-df-quickchart {\n",
              "      --bg-color: #3B4455;\n",
              "      --fill-color: #D2E3FC;\n",
              "      --hover-bg-color: #434B5C;\n",
              "      --hover-fill-color: #FFFFFF;\n",
              "      --disabled-bg-color: #3B4455;\n",
              "      --disabled-fill-color: #666;\n",
              "  }\n",
              "\n",
              "  .colab-df-quickchart {\n",
              "    background-color: var(--bg-color);\n",
              "    border: none;\n",
              "    border-radius: 50%;\n",
              "    cursor: pointer;\n",
              "    display: none;\n",
              "    fill: var(--fill-color);\n",
              "    height: 32px;\n",
              "    padding: 0;\n",
              "    width: 32px;\n",
              "  }\n",
              "\n",
              "  .colab-df-quickchart:hover {\n",
              "    background-color: var(--hover-bg-color);\n",
              "    box-shadow: 0 1px 2px rgba(60, 64, 67, 0.3), 0 1px 3px 1px rgba(60, 64, 67, 0.15);\n",
              "    fill: var(--button-hover-fill-color);\n",
              "  }\n",
              "\n",
              "  .colab-df-quickchart-complete:disabled,\n",
              "  .colab-df-quickchart-complete:disabled:hover {\n",
              "    background-color: var(--disabled-bg-color);\n",
              "    fill: var(--disabled-fill-color);\n",
              "    box-shadow: none;\n",
              "  }\n",
              "\n",
              "  .colab-df-spinner {\n",
              "    border: 2px solid var(--fill-color);\n",
              "    border-color: transparent;\n",
              "    border-bottom-color: var(--fill-color);\n",
              "    animation:\n",
              "      spin 1s steps(1) infinite;\n",
              "  }\n",
              "\n",
              "  @keyframes spin {\n",
              "    0% {\n",
              "      border-color: transparent;\n",
              "      border-bottom-color: var(--fill-color);\n",
              "      border-left-color: var(--fill-color);\n",
              "    }\n",
              "    20% {\n",
              "      border-color: transparent;\n",
              "      border-left-color: var(--fill-color);\n",
              "      border-top-color: var(--fill-color);\n",
              "    }\n",
              "    30% {\n",
              "      border-color: transparent;\n",
              "      border-left-color: var(--fill-color);\n",
              "      border-top-color: var(--fill-color);\n",
              "      border-right-color: var(--fill-color);\n",
              "    }\n",
              "    40% {\n",
              "      border-color: transparent;\n",
              "      border-right-color: var(--fill-color);\n",
              "      border-top-color: var(--fill-color);\n",
              "    }\n",
              "    60% {\n",
              "      border-color: transparent;\n",
              "      border-right-color: var(--fill-color);\n",
              "    }\n",
              "    80% {\n",
              "      border-color: transparent;\n",
              "      border-right-color: var(--fill-color);\n",
              "      border-bottom-color: var(--fill-color);\n",
              "    }\n",
              "    90% {\n",
              "      border-color: transparent;\n",
              "      border-bottom-color: var(--fill-color);\n",
              "    }\n",
              "  }\n",
              "</style>\n",
              "\n",
              "  <script>\n",
              "    async function quickchart(key) {\n",
              "      const quickchartButtonEl =\n",
              "        document.querySelector('#' + key + ' button');\n",
              "      quickchartButtonEl.disabled = true;  // To prevent multiple clicks.\n",
              "      quickchartButtonEl.classList.add('colab-df-spinner');\n",
              "      try {\n",
              "        const charts = await google.colab.kernel.invokeFunction(\n",
              "            'suggestCharts', [key], {});\n",
              "      } catch (error) {\n",
              "        console.error('Error during call to suggestCharts:', error);\n",
              "      }\n",
              "      quickchartButtonEl.classList.remove('colab-df-spinner');\n",
              "      quickchartButtonEl.classList.add('colab-df-quickchart-complete');\n",
              "    }\n",
              "    (() => {\n",
              "      let quickchartButtonEl =\n",
              "        document.querySelector('#df-61adb242-94c3-473f-a152-65414d4d33e9 button');\n",
              "      quickchartButtonEl.style.display =\n",
              "        google.colab.kernel.accessAllowed ? 'block' : 'none';\n",
              "    })();\n",
              "  </script>\n",
              "</div>\n",
              "\n",
              "    </div>\n",
              "  </div>\n"
            ],
            "application/vnd.google.colaboratory.intrinsic+json": {
              "type": "dataframe",
              "variable_name": "df",
              "summary": "{\n  \"name\": \"df\",\n  \"rows\": 2985,\n  \"fields\": [\n    {\n      \"column\": \"min_metro\",\n      \"properties\": {\n        \"dtype\": \"number\",\n        \"std\": 116.54850423663848,\n        \"min\": 1.0,\n        \"max\": 2025.0,\n        \"num_unique_values\": 31,\n        \"samples\": [\n          1.0,\n          13.0,\n          14.0\n        ],\n        \"semantic_type\": \"\",\n        \"description\": \"\"\n      }\n    },\n    {\n      \"column\": \"area_total\",\n      \"properties\": {\n        \"dtype\": \"number\",\n        \"std\": 43.265204518042246,\n        \"min\": 9.0,\n        \"max\": 366.8,\n        \"num_unique_values\": 1171,\n        \"samples\": [\n          114.98,\n          63.86,\n          84.6\n        ],\n        \"semantic_type\": \"\",\n        \"description\": \"\"\n      }\n    },\n    {\n      \"column\": \"area_util\",\n      \"properties\": {\n        \"dtype\": \"number\",\n        \"std\": 28.438748064279718,\n        \"min\": 1.0,\n        \"max\": 241.0,\n        \"num_unique_values\": 760,\n        \"samples\": [\n          40.4,\n          5.5,\n          24.4\n        ],\n        \"semantic_type\": \"\",\n        \"description\": \"\"\n      }\n    },\n    {\n      \"column\": \"andar\",\n      \"properties\": {\n        \"dtype\": \"number\",\n        \"std\": 9.637361660057774,\n        \"min\": 1.0,\n        \"max\": 72.0,\n        \"num_unique_values\": 60,\n        \"samples\": [\n          11.0,\n          23.0,\n          45.0\n        ],\n        \"semantic_type\": \"\",\n        \"description\": \"\"\n      }\n    },\n    {\n      \"column\": \"novo\",\n      \"properties\": {\n        \"dtype\": \"number\",\n        \"std\": 0.4684376733449304,\n        \"min\": 0.0,\n        \"max\": 1.0,\n        \"num_unique_values\": 2,\n        \"samples\": [\n          0.0,\n          1.0\n        ],\n        \"semantic_type\": \"\",\n        \"description\": \"\"\n      }\n    },\n    {\n      \"column\": \"pe_direito\",\n      \"properties\": {\n        \"dtype\": \"number\",\n        \"std\": 0.7178423154014378,\n        \"min\": 2.0,\n        \"max\": 30.0,\n        \"num_unique_values\": 94,\n        \"samples\": [\n          4.1,\n          5.05\n        ],\n        \"semantic_type\": \"\",\n        \"description\": \"\"\n      }\n    },\n    {\n      \"column\": \"numero_comodos\",\n      \"properties\": {\n        \"dtype\": \"number\",\n        \"std\": 1.1294738683068266,\n        \"min\": 1.0,\n        \"max\": 4.0,\n        \"num_unique_values\": 4,\n        \"samples\": [\n          1.0,\n          4.0\n        ],\n        \"semantic_type\": \"\",\n        \"description\": \"\"\n      }\n    }\n  ]\n}"
            }
          },
          "metadata": {},
          "execution_count": 2
        }
      ]
    },
    {
      "cell_type": "markdown",
      "source": [
        "### Carregando e explorando o dataset"
      ],
      "metadata": {
        "id": "j2tsNtB6auy3"
      }
    },
    {
      "cell_type": "code",
      "source": [
        "# Exibir as primeiras linhas do conjunto de dados\n",
        "print(df.head())\n",
        "print()\n",
        "\n",
        "# Exibir informações gerais sobre o dataset\n",
        "print(df.info())\n",
        "print()\n",
        "\n",
        "# Verificar estatísticas descritivas\n",
        "print(df.describe())"
      ],
      "metadata": {
        "colab": {
          "base_uri": "https://localhost:8080/"
        },
        "collapsed": true,
        "id": "S2RcP5CBZku1",
        "outputId": "696d8c80-92e8-4c43-e0b3-d6fc28a60f3a"
      },
      "execution_count": null,
      "outputs": [
        {
          "output_type": "stream",
          "name": "stdout",
          "text": [
            "   min_metro  area_total  area_util  andar  novo  pe_direito  numero_comodos\n",
            "0       24.0       64.20       32.4   11.0   1.0        3.15             2.0\n",
            "1        5.0       72.40       33.6    3.0   1.0        3.15             2.0\n",
            "2       27.0       66.90       24.8    9.0   1.0        3.00             2.0\n",
            "3       20.0       66.00       29.9    8.0   1.0        3.00             2.0\n",
            "4        5.0       65.55       34.4   26.0   1.0        2.87             2.0\n",
            "\n",
            "<class 'pandas.core.frame.DataFrame'>\n",
            "RangeIndex: 2985 entries, 0 to 2984\n",
            "Data columns (total 7 columns):\n",
            " #   Column          Non-Null Count  Dtype  \n",
            "---  ------          --------------  -----  \n",
            " 0   min_metro       2985 non-null   float64\n",
            " 1   area_total      2985 non-null   float64\n",
            " 2   area_util       2985 non-null   float64\n",
            " 3   andar           2985 non-null   float64\n",
            " 4   novo            2985 non-null   float64\n",
            " 5   pe_direito      2985 non-null   float64\n",
            " 6   numero_comodos  2985 non-null   float64\n",
            "dtypes: float64(7)\n",
            "memory usage: 163.4 KB\n",
            "None\n",
            "\n",
            "         min_metro   area_total    area_util        andar         novo  \\\n",
            "count  2985.000000  2985.000000  2985.000000  2985.000000  2985.000000   \n",
            "mean     17.928308    76.468935    43.521139    10.462982     0.324958   \n",
            "std     116.548504    43.265205    28.438748     9.637362     0.468438   \n",
            "min       1.000000     9.000000     1.000000     1.000000     0.000000   \n",
            "25%       6.000000    42.100000    20.800000     4.000000     0.000000   \n",
            "50%      10.000000    67.000000    36.600000     7.000000     0.000000   \n",
            "75%      15.000000    97.700000    58.400000    14.000000     1.000000   \n",
            "max    2025.000000   366.800000   241.000000    72.000000     1.000000   \n",
            "\n",
            "        pe_direito  numero_comodos  \n",
            "count  2985.000000     2985.000000  \n",
            "mean      2.980730        2.437856  \n",
            "std       0.717842        1.129474  \n",
            "min       2.000000        1.000000  \n",
            "25%       2.700000        1.000000  \n",
            "50%       3.000000        2.000000  \n",
            "75%       3.100000        3.000000  \n",
            "max      30.000000        4.000000  \n"
          ]
        }
      ]
    },
    {
      "cell_type": "markdown",
      "source": [
        "### Pré-processamento dos dados"
      ],
      "metadata": {
        "id": "eafhUX2Vax00"
      }
    },
    {
      "cell_type": "code",
      "source": [
        "from sklearn.preprocessing import MinMaxScaler\n",
        "from sklearn.model_selection import train_test_split\n",
        "\n",
        "# Separar as features (X) e o target (y) colocando \"novo\" como alvo\n",
        "X = df.drop('novo', axis = 1)\n",
        "y = df['novo']\n",
        "\n",
        "# Normalizar os dados\n",
        "scaler = MinMaxScaler()\n",
        "X_scaled = scaler.fit_transform(X)\n",
        "\n",
        "# Dividir os dados em conjuntos de treinamento e teste\n",
        "X_treino, X_teste, y_treino, y_teste = train_test_split(X_scaled, y, test_size = 0.3, random_state = 42)\n"
      ],
      "metadata": {
        "id": "7W9B4yaKZv7_"
      },
      "execution_count": null,
      "outputs": []
    },
    {
      "cell_type": "markdown",
      "source": [
        "### Treinar o modelo Multinomial Naive Bayes"
      ],
      "metadata": {
        "id": "ZQmBl8b3a10U"
      }
    },
    {
      "cell_type": "code",
      "source": [
        "from sklearn.naive_bayes import MultinomialNB\n",
        "\n",
        "# Treinar o modelo Naive Bayes\n",
        "model = MultinomialNB()\n",
        "model.fit(X_treino, y_treino)\n",
        "\n",
        "# Fazer previsões no conjunto de teste\n",
        "y_pred = model.predict(X_teste)\n"
      ],
      "metadata": {
        "id": "mQKWFGokZ5B0"
      },
      "execution_count": null,
      "outputs": []
    },
    {
      "cell_type": "markdown",
      "source": [
        "### Avaliar a performance do modelo"
      ],
      "metadata": {
        "id": "Lm2_ze3Ga7vk"
      }
    },
    {
      "cell_type": "code",
      "source": [
        "from sklearn.metrics import accuracy_score, classification_report, confusion_matrix\n",
        "import seaborn as sns\n",
        "import matplotlib.pyplot as plt\n",
        "\n",
        "# Avaliar o modelo\n",
        "accuracy = accuracy_score(y_teste, y_pred)\n",
        "report = classification_report(y_teste, y_pred)\n",
        "conf_matrix = confusion_matrix(y_teste, y_pred)\n",
        "\n",
        "print(f'Acurácia: {accuracy:.2f}')\n",
        "print()\n",
        "print(f'Relatório de Classificação:\\n{report}')\n",
        "print()\n",
        "print(f'Matriz de Confusão:\\n{conf_matrix}')\n"
      ],
      "metadata": {
        "colab": {
          "base_uri": "https://localhost:8080/"
        },
        "id": "c9fkm2FTZ9v8",
        "outputId": "d723d165-0a80-4725-e7b1-460d4ecf8cd1"
      },
      "execution_count": null,
      "outputs": [
        {
          "output_type": "stream",
          "name": "stdout",
          "text": [
            "Acurácia: 0.65\n",
            "\n",
            "Relatório de Classificação:\n",
            "              precision    recall  f1-score   support\n",
            "\n",
            "         0.0       0.65      1.00      0.79       580\n",
            "         1.0       1.00      0.01      0.02       316\n",
            "\n",
            "    accuracy                           0.65       896\n",
            "   macro avg       0.82      0.50      0.40       896\n",
            "weighted avg       0.77      0.65      0.52       896\n",
            "\n",
            "\n",
            "Matriz de Confusão:\n",
            "[[580   0]\n",
            " [313   3]]\n"
          ]
        }
      ]
    },
    {
      "cell_type": "code",
      "source": [
        "# Matriz de confusão\n",
        "conf_matrix = confusion_matrix(y_teste, y_pred)\n",
        "sns.heatmap(conf_matrix, annot = True, fmt = \"d\", cmap = \"Reds\", xticklabels = ['Não Novo', 'Novo'], yticklabels = ['Não Novo', 'Novo'])\n",
        "plt.xlabel('Predito')\n",
        "plt.ylabel('Atual')\n",
        "plt.title('Matriz de Confusão')\n",
        "plt.show()"
      ],
      "metadata": {
        "colab": {
          "base_uri": "https://localhost:8080/",
          "height": 472
        },
        "id": "afJSfcu3EY5h",
        "outputId": "6e5e7814-2eb6-4ae2-9452-88557a7e9d12"
      },
      "execution_count": null,
      "outputs": [
        {
          "output_type": "display_data",
          "data": {
            "text/plain": [
              "<Figure size 640x480 with 2 Axes>"
            ],
            "image/png": "[encoded data removed]"
          },
          "metadata": {}
        }
      ]
    },
    {
      "cell_type": "markdown",
      "source": [
        "\n",
        "### Interpretação\n"
      ],
      "metadata": {
        "id": "SNc19JYGdp_u"
      }
    },
    {
      "cell_type": "markdown",
      "source": [
        "\n",
        "#### Acurácia\n",
        "- **Acurácia de 65.07%**: O modelo prevê corretamente se um apartamento é novo ou não em 65.07% dos casos.\n",
        "\n",
        "#### Precisão e Revocação\n",
        "- **Classe 0 (apartamentos não novos)**:\n",
        "- **Precisão**: 0.65 - 65% das previsões que o modelo fez como \"não novo\" estão corretas.\n",
        "- **Revocação**: 1.00 - 100% dos apartamentos que realmente não são novos foram identificados corretamente.\n",
        "- **F1-Score**: 0.79 - Média harmônica entre precisão e revocação para a classe 0.\n",
        "\n",
        "- **Classe 1 (apartamentos novos)**:\n",
        "- **Precisão**: 1.00 - 100% das previsões que o modelo fez como \"novo\" estão corretas.\n",
        "- **Revocação**: 0.01 - Apenas 1% dos apartamentos que realmente são novos foram identificados corretamente.\n",
        "- **F1-Score**: 0.02 - Média harmônica entre precisão e revocação para a classe 1.\n",
        "\n",
        "#### Desempenho do Modelo\n",
        "- **Alta precisão para a classe 1**: Quando o modelo prevê que um apartamento é novo, ele está correto. No entanto, essa precisão alta é enganosa devido ao número extremamente baixo de previsões para essa classe (apenas 3 verdadeiros positivos).\n",
        "- **Baixa revocação para a classe 1**: O modelo falha em identificar a maioria dos apartamentos novos, indicando que está tendencioso para prever apartamentos como não novos.\n",
        "- **Alta revocação para a classe 0**: O modelo identifica quase todos os apartamentos não novos corretamente, mas isso também significa que está superestimando a classe 0 em detrimento da classe 1.\n",
        "\n",
        "### Conclusão\n",
        "- **Desempenho Desequilibrado**: O modelo tem um desempenho desequilibrado, sendo bom em identificar apartamentos não novos, mas péssimo em identificar apartamentos novos. Isso sugere um desequilíbrio de classes no conjunto de dados, onde a classe de apartamentos não novos pode estar super-representada.\n",
        "- **Necessidade de Melhorias:**\n",
        "  - **Balanceamento de Dados**: Métodos como oversampling da classe minoritária (apartamentos novos) ou undersampling da classe majoritária (apartamentos não novos) podem ajudar.\n",
        "  - **Modelo Alternativo**: Testar outros modelos de classificação que possam lidar melhor com o desequilíbrio, como Random Forest ou Gradient Boosting.\n",
        "  - **Feature Engineering**: Criar novas features ou transformar as existentes para melhorar a representatividade dos dados.\n",
        "\n",
        "### Próximos Passos\n",
        "1. **Análise de Balanceamento de Dados**: Verificar a distribuição das classes e aplicar técnicas de balanceamento.\n",
        "2. **Exploração de Outros Modelos**: Testar e comparar outros algoritmos de classificação.\n",
        "3. **Feature Engineering**: Melhorar a qualidade das features para ajudar na classificação."
      ],
      "metadata": {
        "id": "JfK_EjLfcYc1"
      }
    },
    {
      "cell_type": "markdown",
      "source": [
        "### Matriz de Confusão EXPLICADA\n"
      ],
      "metadata": {
        "id": "39Xans1SbnT0"
      }
    },
    {
      "cell_type": "markdown",
      "source": [
        "            \n",
        "\n",
        "```\n",
        "                  Predito 0   Predito 1\n",
        "\n",
        "Real 0 (Negativo)   TN (True Negative)    FP (False Positive)\n",
        "Real 1 (Positivo)   FN (False Negative)   TP (True Positive)\n",
        "```\n",
        "\n",
        "\n",
        "\n",
        "Elementos da Matriz de Confusão\n",
        "\n",
        "    True Positive (TP): Número de amostras que são positivamente classificadas corretamente (classe real 1, predição 1).\n",
        "    True Negative (TN): Número de amostras que são negativamente classificadas corretamente (classe real 0, predição 0).\n",
        "    False Positive (FP): Número de amostras que são negativamente classificadas incorretamente como positivas (classe real 0, predição 1).\n",
        "    False Negative (FN): Número de amostras que são positivamente classificadas incorretamente como negativas (classe real 1, predição 0).\n",
        "\n",
        "  Pelo nosso resultado temos:\n",
        "\n",
        "    True Negatives (TN): 580 (apartamentos que não são novos e foram corretamente classificados como não novos)\n",
        "    False Positives (FP): 0 (apartamentos que não são novos e foram incorretamente classificados como novos)\n",
        "    False Negatives (FN): 313 (apartamentos que são novos e foram incorretamente classificados como não novos)\n",
        "    True Positives (TP): 3 (apartamentos que são novos e foram corretamente classificados como novos)"
      ],
      "metadata": {
        "id": "FEnbgCd8dlUH"
      }
    }
  ]
}